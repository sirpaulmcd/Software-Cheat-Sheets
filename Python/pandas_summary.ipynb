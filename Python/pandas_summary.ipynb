{
 "nbformat": 4,
 "nbformat_minor": 2,
 "metadata": {
  "language_info": {
   "name": "python",
   "codemirror_mode": {
    "name": "ipython",
    "version": 3
   },
   "version": "3.7.4"
  },
  "orig_nbformat": 2,
  "file_extension": ".py",
  "mimetype": "text/x-python",
  "name": "python",
  "npconvert_exporter": "python",
  "pygments_lexer": "ipython3",
  "version": 3
 },
 "cells": [
  {
   "cell_type": "markdown",
   "execution_count": null,
   "metadata": {},
   "outputs": [],
   "source": [
    "## Source\n",
    "The following cheat sheet was created using examples from https://www.youtube.com/watch?v=vmEHCJofslg\n",
    "as well as resources from the Pandas Basics cheat sheet from DataCamp.com"
   ]
  },
  {
   "cell_type": "markdown",
   "execution_count": null,
   "metadata": {},
   "outputs": [],
   "source": [
    "## Pandas boilerplate"
   ]
  },
  {
   "cell_type": "code",
   "execution_count": 55,
   "metadata": {},
   "outputs": [],
   "source": [
    "import numpy as np # Numpy is imported for generating nan values\n",
    "import re # Regex imported for regex selection example\n",
    "import pandas as pd"
   ]
  },
  {
   "cell_type": "markdown",
   "execution_count": null,
   "metadata": {},
   "outputs": [],
   "source": [
    "## Creating Series and DataFrames"
   ]
  },
  {
   "cell_type": "code",
   "execution_count": 32,
   "metadata": {},
   "outputs": [],
   "source": [
    "# Create series from list data\n",
    "s = pd.Series([3, -5, 7 , 4], index=['a', 'b', 'c', 'd'])\n",
    "\n",
    "# Create dataframe from dictionary data\n",
    "data = {'Country': ['Belgium','India','Brazil'],\n",
    "        'Capital': ['Brussels','New Delhi','Brasilia'],\n",
    "        'Population': [11190846, 1303171035, 207847528]}\n",
    "\n",
    "df_dict = pd.DataFrame(data, columns=['Country','Capital','Population'])\n",
    "\n",
    "# # Create dataframe using array\n",
    "# df = pd.DataFrame(arr, columns=['col1', 'col2', 'col3'])\n",
    "\n",
    "# Create new dataframe from old dataframe data\n",
    "df_new = df_dict[['Country', 'Capital']]\n",
    "\n",
    "# Create a copy of another dataframe\n",
    "df_copy = df.copy()"
   ]
  },
  {
   "cell_type": "markdown",
   "execution_count": null,
   "metadata": {},
   "outputs": [],
   "source": [
    "## Importing Data\n",
    "\n",
    "Note that df stands for dataframe"
   ]
  },
  {
   "cell_type": "code",
   "execution_count": 12,
   "metadata": {},
   "outputs": [],
   "source": [
    "# CSV reader command (for comma separated format)\n",
    "    # Indicate which values in used to indicate nans in the csv \n",
    "df = pd.read_csv('pokemon_data.csv', na_values='')\n",
    "\n",
    "# CSV reader command (for csv with no header and dates)\n",
    "    # skiperows=4 Starts converting at row 5\n",
    "    # parse_dates=[0,] Converts dates in column zero\n",
    "    # date_parser=pd.to_datetime Specifies how to parse dates\n",
    "# df = pd.read_csv('temp.csv', header=None, names=['date', 'temp'], skiprows=4, parse_dates=[0,], date_parser=pd.to_datetime)\n",
    "\n",
    "# # Excel reader command (for excel data)\n",
    "# df_xlsx = pd.read_excel('pokemon_data.xlsx')\n",
    "\n",
    "# # Text reader command (for text files with tab as delimiter)\n",
    "# df = pd.read_csv('pokemon_data.txt', delimiter='\\t')"
   ]
  },
  {
   "cell_type": "markdown",
   "execution_count": null,
   "metadata": {},
   "outputs": [],
   "source": [
    "## Exporting Data"
   ]
  },
  {
   "cell_type": "code",
   "execution_count": null,
   "metadata": {},
   "outputs": [],
   "source": [
    "# # Save working data to a csv file\n",
    "    # # 'modified.csv' will be the name of the file\n",
    "    # # index=False line indicates that index will not be included as a column\n",
    "# df.to_csv('modified.csv', index=False)\n",
    "\n",
    "# # Save working data to an excel file\n",
    "# df.to_excel('modified.xlsx', index=False)\n",
    "\n",
    "# # Save working data to a text file (with tab as delimeter)\n",
    "# df.to_csv('modified.txt', index=False, sep='\\t')"
   ]
  },
  {
   "cell_type": "markdown",
   "execution_count": null,
   "metadata": {},
   "outputs": [],
   "source": [
    "## Cleaning Data"
   ]
  },
  {
   "cell_type": "code",
   "execution_count": null,
   "metadata": {},
   "outputs": [],
   "source": [
    "# # Replace '?' values with 'NaN'\n",
    "# df = df.replace({'?': 'NaN'})\n",
    "\n",
    "# # Convert dataframe datatypes\n",
    "# df = df.astype('float')\n",
    "\n",
    "# # Generate boolean array of nan values\n",
    "# df.isnull()\n",
    "\n",
    "# # Find the number of nan values in each column\n",
    "# df.isnull().sum()\n",
    "\n",
    "# # Replaces all nan values with average\n",
    "# df.fillna(df.mean())\n",
    "\n",
    "# # Replaces nan values specific columns\n",
    "# data.fillna({'chol': data['chol'].mean(), 'trestbps': data['trestbps'].min()})\n",
    "\n",
    "# # Replace all 12s with 13s and all 13s with 14s in 'count' column\n",
    "# df['count'].replace([12, 13], [13, 14])\n",
    "\n",
    "# # Drop rows containing nan values in specific columns\n",
    "# df.dropna(subset=['chol', 'trestbps'])\n",
    "\n",
    "# # Drops duplicate rows\n",
    "# df = df.drop_duplicates()"
   ]
  },
  {
   "cell_type": "markdown",
   "execution_count": null,
   "metadata": {},
   "outputs": [],
   "source": [
    "## Viewing/Inspecting Data"
   ]
  },
  {
   "cell_type": "code",
   "execution_count": 70,
   "metadata": {},
   "outputs": [
    {
     "data": {
      "text/html": "<div>\n<style scoped>\n    .dataframe tbody tr th:only-of-type {\n        vertical-align: middle;\n    }\n\n    .dataframe tbody tr th {\n        vertical-align: top;\n    }\n\n    .dataframe thead th {\n        text-align: right;\n    }\n</style>\n<table border=\"1\" class=\"dataframe\">\n  <thead>\n    <tr style=\"text-align: right;\">\n      <th></th>\n      <th>#</th>\n      <th>Name</th>\n      <th>Type 1</th>\n      <th>Type 2</th>\n      <th>HP</th>\n      <th>Attack</th>\n      <th>Defense</th>\n      <th>Sp. Atk</th>\n      <th>Sp. Def</th>\n      <th>Speed</th>\n      <th>Generation</th>\n      <th>Legendary</th>\n      <th>Total</th>\n      <th>count</th>\n    </tr>\n  </thead>\n  <tbody>\n    <tr>\n      <th>0</th>\n      <td>1</td>\n      <td>Bulbasaur</td>\n      <td>Grass</td>\n      <td>Poison</td>\n      <td>45</td>\n      <td>49</td>\n      <td>49</td>\n      <td>65</td>\n      <td>65</td>\n      <td>45</td>\n      <td>1</td>\n      <td>False</td>\n      <td>318</td>\n      <td>1</td>\n    </tr>\n    <tr>\n      <th>1</th>\n      <td>2</td>\n      <td>Ivysaur</td>\n      <td>Grass</td>\n      <td>Poison</td>\n      <td>60</td>\n      <td>62</td>\n      <td>63</td>\n      <td>80</td>\n      <td>80</td>\n      <td>60</td>\n      <td>1</td>\n      <td>False</td>\n      <td>405</td>\n      <td>1</td>\n    </tr>\n    <tr>\n      <th>2</th>\n      <td>3</td>\n      <td>Venusaur</td>\n      <td>Grass</td>\n      <td>Poison</td>\n      <td>80</td>\n      <td>82</td>\n      <td>83</td>\n      <td>100</td>\n      <td>100</td>\n      <td>80</td>\n      <td>1</td>\n      <td>False</td>\n      <td>525</td>\n      <td>1</td>\n    </tr>\n    <tr>\n      <th>3</th>\n      <td>3</td>\n      <td>VenusaurMega Venusaur</td>\n      <td>Grass</td>\n      <td>Poison</td>\n      <td>80</td>\n      <td>100</td>\n      <td>123</td>\n      <td>122</td>\n      <td>120</td>\n      <td>80</td>\n      <td>1</td>\n      <td>False</td>\n      <td>625</td>\n      <td>1</td>\n    </tr>\n    <tr>\n      <th>4</th>\n      <td>4</td>\n      <td>Charmander</td>\n      <td>Fire</td>\n      <td>NaN</td>\n      <td>39</td>\n      <td>52</td>\n      <td>43</td>\n      <td>60</td>\n      <td>50</td>\n      <td>65</td>\n      <td>1</td>\n      <td>False</td>\n      <td>309</td>\n      <td>1</td>\n    </tr>\n  </tbody>\n</table>\n</div>",
      "text/plain": "   #                   Name Type 1  Type 2  HP  Attack  Defense  Sp. Atk  \\\n0  1              Bulbasaur  Grass  Poison  45      49       49       65   \n1  2                Ivysaur  Grass  Poison  60      62       63       80   \n2  3               Venusaur  Grass  Poison  80      82       83      100   \n3  3  VenusaurMega Venusaur  Grass  Poison  80     100      123      122   \n4  4             Charmander   Fire     NaN  39      52       43       60   \n\n   Sp. Def  Speed  Generation  Legendary  Total  count  \n0       65     45           1      False    318      1  \n1       80     60           1      False    405      1  \n2      100     80           1      False    525      1  \n3      120     80           1      False    625      1  \n4       50     65           1      False    309      1  "
     },
     "execution_count": 70,
     "metadata": {},
     "output_type": "execute_result"
    }
   ],
   "source": [
    "# # Displays entire dataframe\n",
    "# df\n",
    "\n",
    "# # Displays top 5 rows of dataframe\n",
    "df.head(5)\n",
    "\n",
    "# # Displays bottom 5 rows of dataframe\n",
    "# df.tail(5)\n",
    "\n",
    "# # Displays column headers\n",
    "# df.columns\n",
    "\n",
    "# # Displays the shape of the dataframe (#rows, #cols)\n",
    "# df.shape\n",
    "\n",
    "# # Displays min/max values for each column\n",
    "# df.min()\n",
    "# df.max()\n",
    "\n",
    "# # Displays the mean values for each column\n",
    "# df.mean() \n",
    "\n",
    "# # Displays index, datatype, and memory information\n",
    "# df.info()\n",
    "\n",
    "# # Displays summary statistics for numerical columns\n",
    "# df.describe()\n",
    "\n",
    "# # Displays correlation matrix for columns\n",
    "# df.corr()\n",
    "\n",
    "# # Displays unique values and counts of series (Histogram)\n",
    "# s.value_counts(dropna=False)\n",
    "\n",
    "# # Displays number of non-BA values in each column\n",
    "# df.count()"
   ]
  },
  {
   "cell_type": "markdown",
   "execution_count": null,
   "metadata": {},
   "outputs": [],
   "source": [
    "## Selecting Data by Column Name, Row Index, and Criterion\n",
    "\n",
    "Note: iloc stands for integer location\n",
    "\n",
    "General Format:\n",
    "- iloc\\[rowIndexStart:rowIndexStop, colIndexStart:colIndexStop]\n",
    "- Note that the stop index is NOT included in the selected range\n",
    "- i.e. iloc\\[0:4, 0:3] selects rows of index 0-3 and columns of index 0-2 \n",
    "\n",
    "Return values:\n",
    "- When selecting a single item -> Returns value\n",
    "- When selecting a row/column -> Returns Series\n",
    "- When selecting a table subset -> Returns DataFrame\n"
   ]
  },
  {
   "cell_type": "code",
   "execution_count": 63,
   "metadata": {},
   "outputs": [],
   "source": [
    "#####################################################################################################\n",
    "### SELECTING BY NAME AND INDEX\n",
    "\n",
    "# # Select single column\n",
    "df['Name']\n",
    "\n",
    "# # Select specifc rows of column\n",
    "# df['Name'][0:5] # Selects first 5 rows\n",
    "\n",
    "# # Select multiple columns\n",
    "# df[['Name','Type 1', 'HP']]\n",
    "\n",
    "# # Select single row by index (iloc stands for integer location)\n",
    "# df.iloc[0, :] # Selects first row\n",
    "\n",
    "# # Select multiple rows by index\n",
    "# df.iloc[0:4, :] # Selects first 4 rows\n",
    "\n",
    "# # Select a specific location (rowIndex, colIndex)\n",
    "# df.iloc[2,1] # Selects the data in row index 2, column index 1\n",
    "\n",
    "# # Select a table subset\n",
    "# df[['Name', 'Type 1']].iloc[0:4] # Selects first 4 rows of Name and Type 1 columns\n",
    "# df.iloc[0:4, 0:3] # Equivalent, but less intuitive method\n",
    "\n",
    "#####################################################################################################\n",
    "### SELECTING BY CRITERIA\n",
    "\n",
    "# # Select rows by single criterion using ==\n",
    "# df.loc[df['Type 1'] == 'Grass'] # Selects rows in column 'Type 1' that hold the value of 'Grass'\n",
    "\n",
    "# # Select rows by strings that contain a keyword \n",
    "# df.loc[df['Name'].str.contains('Mega')] # Selects rows that contain 'Mega' in the name\n",
    "\n",
    "# # Select rows by strings that contain a keyword using regex\n",
    "# df.loc[df['Type 1'].str.contains('Fire|Grass', regex=True)] # Selects pokemon of 'Type 1' of Fire or Grass\n",
    "# df.loc[df['Type 1'].str.contains('fire|grass', flags=re.I, regex=True)] # Same as above, ignores case sensitivity\n",
    "# df.loc[df['Name'].str.contains('^pi[a-z]*', flags=re.I, regex=True)] # Selects pokemon with names that start with \"pi\"\n",
    "\n",
    "# # Select rows by multiple criteria (Note that '&' and '|' are to be used rather than 'and' and 'or')'\n",
    "# df.loc[(df['Type 1'] == 'Grass') & (df['Type 2'] == 'Poison') & (df['HP'] > 70)]\n",
    "\n",
    "# Note, if constructing a new DataFrame after selecting multiple criteria, use this on the new df to reset the indexes\n",
    "# df.reset_index(drop=True, inplace=True)\n"
   ]
  },
  {
   "cell_type": "markdown",
   "execution_count": null,
   "metadata": {},
   "outputs": [],
   "source": [
    "## Traversing Data"
   ]
  },
  {
   "cell_type": "code",
   "execution_count": 52,
   "metadata": {},
   "outputs": [
    {
     "name": "stdout",
     "output_type": "stream",
     "text": "0 Bulbasaur\n1 Ivysaur\n2 Venusaur\n3 VenusaurMega Venusaur\n4 Charmander\n5 Charmeleon\n6 Charizard\n7 CharizardMega Charizard X\n8 CharizardMega Charizard Y\n9 Squirtle\n10 Wartortle\n11 Blastoise\n12 BlastoiseMega Blastoise\n13 Caterpie\n14 Metapod\n15 Butterfree\n16 Weedle\n17 Kakuna\n18 Beedrill\n19 BeedrillMega Beedrill\n20 Pidgey\n21 Pidgeotto\n22 Pidgeot\n23 PidgeotMega Pidgeot\n24 Rattata\n25 Raticate\n26 Spearow\n27 Fearow\n28 Ekans\n29 Arbok\n30 Pikachu\n31 Raichu\n32 Sandshrew\n33 Sandslash\n34 Nidoran (Female)\n35 Nidorina\n36 Nidoqueen\n37 Nidoran (Male)\n38 Nidorino\n39 Nidoking\n40 Clefairy\n41 Clefable\n42 Vulpix\n43 Ninetales\n44 Jigglypuff\n45 Wigglytuff\n46 Zubat\n47 Golbat\n48 Oddish\n49 Gloom\n50 Vileplume\n51 Paras\n52 Parasect\n53 Venonat\n54 Venomoth\n55 Diglett\n56 Dugtrio\n57 Meowth\n58 Persian\n59 Psyduck\n60 Golduck\n61 Mankey\n62 Primeape\n63 Growlithe\n64 Arcanine\n65 Poliwag\n66 Poliwhirl\n67 Poliwrath\n68 Abra\n69 Kadabra\n70 Alakazam\n71 AlakazamMega Alakazam\n72 Machop\n73 Machoke\n74 Machamp\n75 Bellsprout\n76 Weepinbell\n77 Victreebel\n78 Tentacool\n79 Tentacruel\n80 Geodude\n81 Graveler\n82 Golem\n83 Ponyta\n84 Rapidash\n85 Slowpoke\n86 Slowbro\n87 SlowbroMega Slowbro\n88 Magnemite\n89 Magneton\n90 Farfetch'd\n91 Doduo\n92 Dodrio\n93 Seel\n94 Dewgong\n95 Grimer\n96 Muk\n97 Shellder\n98 Cloyster\n99 Gastly\n100 Haunter\n101 Gengar\n102 GengarMega Gengar\n103 Onix\n104 Drowzee\n105 Hypno\n106 Krabby\n107 Kingler\n108 Voltorb\n109 Electrode\n110 Exeggcute\n111 Exeggutor\n112 Cubone\n113 Marowak\n114 Hitmonlee\n115 Hitmonchan\n116 Lickitung\n117 Koffing\n118 Weezing\n119 Rhyhorn\n120 Rhydon\n121 Chansey\n122 Tangela\n123 Kangaskhan\n124 KangaskhanMega Kangaskhan\n125 Horsea\n126 Seadra\n127 Goldeen\n128 Seaking\n129 Staryu\n130 Starmie\n131 Mr. Mime\n132 Scyther\n133 Jynx\n134 Electabuzz\n135 Magmar\n136 Pinsir\n137 PinsirMega Pinsir\n138 Tauros\n139 Magikarp\n140 Gyarados\n141 GyaradosMega Gyarados\n142 Lapras\n143 Ditto\n144 Eevee\n145 Vaporeon\n146 Jolteon\n147 Flareon\n148 Porygon\n149 Omanyte\n150 Omastar\n151 Kabuto\n152 Kabutops\n153 Aerodactyl\n154 AerodactylMega Aerodactyl\n155 Snorlax\n156 Articuno\n157 Zapdos\n158 Moltres\n159 Dratini\n160 Dragonair\n161 Dragonite\n162 Mewtwo\n163 MewtwoMega Mewtwo X\n164 MewtwoMega Mewtwo Y\n165 Mew\n166 Chikorita\n167 Bayleef\n168 Meganium\n169 Cyndaquil\n170 Quilava\n171 Typhlosion\n172 Totodile\n173 Croconaw\n174 Feraligatr\n175 Sentret\n176 Furret\n177 Hoothoot\n178 Noctowl\n179 Ledyba\n180 Ledian\n181 Spinarak\n182 Ariados\n183 Crobat\n184 Chinchou\n185 Lanturn\n186 Pichu\n187 Cleffa\n188 Igglybuff\n189 Togepi\n190 Togetic\n191 Natu\n192 Xatu\n193 Mareep\n194 Flaaffy\n195 Ampharos\n196 AmpharosMega Ampharos\n197 Bellossom\n198 Marill\n199 Azumarill\n200 Sudowoodo\n201 Politoed\n202 Hoppip\n203 Skiploom\n204 Jumpluff\n205 Aipom\n206 Sunkern\n207 Sunflora\n208 Yanma\n209 Wooper\n210 Quagsire\n211 Espeon\n212 Umbreon\n213 Murkrow\n214 Slowking\n215 Misdreavus\n216 Unown\n217 Wobbuffet\n218 Girafarig\n219 Pineco\n220 Forretress\n221 Dunsparce\n222 Gligar\n223 Steelix\n224 SteelixMega Steelix\n225 Snubbull\n226 Granbull\n227 Qwilfish\n228 Scizor\n229 ScizorMega Scizor\n230 Shuckle\n231 Heracross\n232 HeracrossMega Heracross\n233 Sneasel\n234 Teddiursa\n235 Ursaring\n236 Slugma\n237 Magcargo\n238 Swinub\n239 Piloswine\n240 Corsola\n241 Remoraid\n242 Octillery\n243 Delibird\n244 Mantine\n245 Skarmory\n246 Houndour\n247 Houndoom\n248 HoundoomMega Houndoom\n249 Kingdra\n250 Phanpy\n251 Donphan\n252 Porygon2\n253 Stantler\n254 Smeargle\n255 Tyrogue\n256 Hitmontop\n257 Smoochum\n258 Elekid\n259 Magby\n260 Miltank\n261 Blissey\n262 Raikou\n263 Entei\n264 Suicune\n265 Larvitar\n266 Pupitar\n267 Tyranitar\n268 TyranitarMega Tyranitar\n269 Lugia\n270 Ho-oh\n271 Celebi\n272 Treecko\n273 Grovyle\n274 Sceptile\n275 SceptileMega Sceptile\n276 Torchic\n277 Combusken\n278 Blaziken\n279 BlazikenMega Blaziken\n280 Mudkip\n281 Marshtomp\n282 Swampert\n283 SwampertMega Swampert\n284 Poochyena\n285 Mightyena\n286 Zigzagoon\n287 Linoone\n288 Wurmple\n289 Silcoon\n290 Beautifly\n291 Cascoon\n292 Dustox\n293 Lotad\n294 Lombre\n295 Ludicolo\n296 Seedot\n297 Nuzleaf\n298 Shiftry\n299 Taillow\n300 Swellow\n301 Wingull\n302 Pelipper\n303 Ralts\n304 Kirlia\n305 Gardevoir\n306 GardevoirMega Gardevoir\n307 Surskit\n308 Masquerain\n309 Shroomish\n310 Breloom\n311 Slakoth\n312 Vigoroth\n313 Slaking\n314 Nincada\n315 Ninjask\n316 Shedinja\n317 Whismur\n318 Loudred\n319 Exploud\n320 Makuhita\n321 Hariyama\n322 Azurill\n323 Nosepass\n324 Skitty\n325 Delcatty\n326 Sableye\n327 SableyeMega Sableye\n328 Mawile\n329 MawileMega Mawile\n330 Aron\n331 Lairon\n332 Aggron\n333 AggronMega Aggron\n334 Meditite\n335 Medicham\n336 MedichamMega Medicham\n337 Electrike\n338 Manectric\n339 ManectricMega Manectric\n340 Plusle\n341 Minun\n342 Volbeat\n343 Illumise\n344 Roselia\n345 Gulpin\n346 Swalot\n347 Carvanha\n348 Sharpedo\n349 SharpedoMega Sharpedo\n350 Wailmer\n351 Wailord\n352 Numel\n353 Camerupt\n354 CameruptMega Camerupt\n355 Torkoal\n356 Spoink\n357 Grumpig\n358 Spinda\n359 Trapinch\n360 Vibrava\n361 Flygon\n362 Cacnea\n363 Cacturne\n364 Swablu\n365 Altaria\n366 AltariaMega Altaria\n367 Zangoose\n368 Seviper\n369 Lunatone\n370 Solrock\n371 Barboach\n372 Whiscash\n373 Corphish\n374 Crawdaunt\n375 Baltoy\n376 Claydol\n377 Lileep\n378 Cradily\n379 Anorith\n380 Armaldo\n381 Feebas\n382 Milotic\n383 Castform\n384 Kecleon\n385 Shuppet\n386 Banette\n387 BanetteMega Banette\n388 Duskull\n389 Dusclops\n390 Tropius\n391 Chimecho\n392 Absol\n393 AbsolMega Absol\n394 Wynaut\n395 Snorunt\n396 Glalie\n397 GlalieMega Glalie\n398 Spheal\n399 Sealeo\n400 Walrein\n401 Clamperl\n402 Huntail\n403 Gorebyss\n404 Relicanth\n405 Luvdisc\n406 Bagon\n407 Shelgon\n408 Salamence\n409 SalamenceMega Salamence\n410 Beldum\n411 Metang\n412 Metagross\n413 MetagrossMega Metagross\n414 Regirock\n415 Regice\n416 Registeel\n417 Latias\n418 LatiasMega Latias\n419 Latios\n420 LatiosMega Latios\n421 Kyogre\n422 KyogrePrimal Kyogre\n423 Groudon\n424 GroudonPrimal Groudon\n425 Rayquaza\n426 RayquazaMega Rayquaza\n427 Jirachi\n428 DeoxysNormal Forme\n429 DeoxysAttack Forme\n430 DeoxysDefense Forme\n431 DeoxysSpeed Forme\n432 Turtwig\n433 Grotle\n434 Torterra\n435 Chimchar\n436 Monferno\n437 Infernape\n438 Piplup\n439 Prinplup\n440 Empoleon\n441 Starly\n442 Staravia\n443 Staraptor\n444 Bidoof\n445 Bibarel\n446 Kricketot\n447 Kricketune\n448 Shinx\n449 Luxio\n450 Luxray\n451 Budew\n452 Roserade\n453 Cranidos\n454 Rampardos\n455 Shieldon\n456 Bastiodon\n457 Burmy\n458 WormadamPlant Cloak\n459 WormadamSandy Cloak\n460 WormadamTrash Cloak\n461 Mothim\n462 Combee\n463 Vespiquen\n464 Pachirisu\n465 Buizel\n466 Floatzel\n467 Cherubi\n468 Cherrim\n469 Shellos\n470 Gastrodon\n471 Ambipom\n472 Drifloon\n473 Drifblim\n474 Buneary\n475 Lopunny\n476 LopunnyMega Lopunny\n477 Mismagius\n478 Honchkrow\n479 Glameow\n480 Purugly\n481 Chingling\n482 Stunky\n483 Skuntank\n484 Bronzor\n485 Bronzong\n486 Bonsly\n487 Mime Jr.\n488 Happiny\n489 Chatot\n490 Spiritomb\n491 Gible\n492 Gabite\n493 Garchomp\n494 GarchompMega Garchomp\n495 Munchlax\n496 Riolu\n497 Lucario\n498 LucarioMega Lucario\n499 Hippopotas\n500 Hippowdon\n501 Skorupi\n502 Drapion\n503 Croagunk\n504 Toxicroak\n505 Carnivine\n506 Finneon\n507 Lumineon\n508 Mantyke\n509 Snover\n510 Abomasnow\n511 AbomasnowMega Abomasnow\n512 Weavile\n513 Magnezone\n514 Lickilicky\n515 Rhyperior\n516 Tangrowth\n517 Electivire\n518 Magmortar\n519 Togekiss\n520 Yanmega\n521 Leafeon\n522 Glaceon\n523 Gliscor\n524 Mamoswine\n525 Porygon-Z\n526 Gallade\n527 GalladeMega Gallade\n528 Probopass\n529 Dusknoir\n530 Froslass\n531 Rotom\n532 RotomHeat Rotom\n533 RotomWash Rotom\n534 RotomFrost Rotom\n535 RotomFan Rotom\n536 RotomMow Rotom\n537 Uxie\n538 Mesprit\n539 Azelf\n540 Dialga\n541 Palkia\n542 Heatran\n543 Regigigas\n544 GiratinaAltered Forme\n545 GiratinaOrigin Forme\n546 Cresselia\n547 Phione\n548 Manaphy\n549 Darkrai\n550 ShayminLand Forme\n551 ShayminSky Forme\n552 Arceus\n553 Victini\n554 Snivy\n555 Servine\n556 Serperior\n557 Tepig\n558 Pignite\n559 Emboar\n560 Oshawott\n561 Dewott\n562 Samurott\n563 Patrat\n564 Watchog\n565 Lillipup\n566 Herdier\n567 Stoutland\n568 Purrloin\n569 Liepard\n570 Pansage\n571 Simisage\n572 Pansear\n573 Simisear\n574 Panpour\n575 Simipour\n576 Munna\n577 Musharna\n578 Pidove\n579 Tranquill\n580 Unfezant\n581 Blitzle\n582 Zebstrika\n583 Roggenrola\n584 Boldore\n585 Gigalith\n586 Woobat\n587 Swoobat\n588 Drilbur\n589 Excadrill\n590 Audino\n591 AudinoMega Audino\n592 Timburr\n593 Gurdurr\n594 Conkeldurr\n595 Tympole\n596 Palpitoad\n597 Seismitoad\n598 Throh\n599 Sawk\n600 Sewaddle\n601 Swadloon\n602 Leavanny\n603 Venipede\n604 Whirlipede\n605 Scolipede\n606 Cottonee\n607 Whimsicott\n608 Petilil\n609 Lilligant\n610 Basculin\n611 Sandile\n612 Krokorok\n613 Krookodile\n614 Darumaka\n615 DarmanitanStandard Mode\n616 DarmanitanZen Mode\n617 Maractus\n618 Dwebble\n619 Crustle\n620 Scraggy\n621 Scrafty\n622 Sigilyph\n623 Yamask\n624 Cofagrigus\n625 Tirtouga\n626 Carracosta\n627 Archen\n628 Archeops\n629 Trubbish\n630 Garbodor\n631 Zorua\n632 Zoroark\n633 Minccino\n634 Cinccino\n635 Gothita\n636 Gothorita\n637 Gothitelle\n638 Solosis\n639 Duosion\n640 Reuniclus\n641 Ducklett\n642 Swanna\n643 Vanillite\n644 Vanillish\n645 Vanilluxe\n646 Deerling\n647 Sawsbuck\n648 Emolga\n649 Karrablast\n650 Escavalier\n651 Foongus\n652 Amoonguss\n653 Frillish\n654 Jellicent\n655 Alomomola\n656 Joltik\n657 Galvantula\n658 Ferroseed\n659 Ferrothorn\n660 Klink\n661 Klang\n662 Klinklang\n663 Tynamo\n664 Eelektrik\n665 Eelektross\n666 Elgyem\n667 Beheeyem\n668 Litwick\n669 Lampent\n670 Chandelure\n671 Axew\n672 Fraxure\n673 Haxorus\n674 Cubchoo\n675 Beartic\n676 Cryogonal\n677 Shelmet\n678 Accelgor\n679 Stunfisk\n680 Mienfoo\n681 Mienshao\n682 Druddigon\n683 Golett\n684 Golurk\n685 Pawniard\n686 Bisharp\n687 Bouffalant\n688 Rufflet\n689 Braviary\n690 Vullaby\n691 Mandibuzz\n692 Heatmor\n693 Durant\n694 Deino\n695 Zweilous\n696 Hydreigon\n697 Larvesta\n698 Volcarona\n699 Cobalion\n700 Terrakion\n701 Virizion\n702 TornadusIncarnate Forme\n703 TornadusTherian Forme\n704 ThundurusIncarnate Forme\n705 ThundurusTherian Forme\n706 Reshiram\n707 Zekrom\n708 LandorusIncarnate Forme\n709 LandorusTherian Forme\n710 Kyurem\n711 KyuremBlack Kyurem\n712 KyuremWhite Kyurem\n713 KeldeoOrdinary Forme\n714 KeldeoResolute Forme\n715 MeloettaAria Forme\n716 MeloettaPirouette Forme\n717 Genesect\n718 Chespin\n719 Quilladin\n720 Chesnaught\n721 Fennekin\n722 Braixen\n723 Delphox\n724 Froakie\n725 Frogadier\n726 Greninja\n727 Bunnelby\n728 Diggersby\n729 Fletchling\n730 Fletchinder\n731 Talonflame\n732 Scatterbug\n733 Spewpa\n734 Vivillon\n735 Litleo\n736 Pyroar\n737 Flabébé\n738 Floette\n739 Florges\n740 Skiddo\n741 Gogoat\n742 Pancham\n743 Pangoro\n744 Furfrou\n745 Espurr\n746 MeowsticMale\n747 MeowsticFemale\n748 Honedge\n749 Doublade\n750 AegislashBlade Forme\n751 AegislashShield Forme\n752 Spritzee\n753 Aromatisse\n754 Swirlix\n755 Slurpuff\n756 Inkay\n757 Malamar\n758 Binacle\n759 Barbaracle\n760 Skrelp\n761 Dragalge\n762 Clauncher\n763 Clawitzer\n764 Helioptile\n765 Heliolisk\n766 Tyrunt\n767 Tyrantrum\n768 Amaura\n769 Aurorus\n770 Sylveon\n771 Hawlucha\n772 Dedenne\n773 Carbink\n774 Goomy\n775 Sliggoo\n776 Goodra\n777 Klefki\n778 Phantump\n779 Trevenant\n780 PumpkabooAverage Size\n781 PumpkabooSmall Size\n782 PumpkabooLarge Size\n783 PumpkabooSuper Size\n784 GourgeistAverage Size\n785 GourgeistSmall Size\n786 GourgeistLarge Size\n787 GourgeistSuper Size\n788 Bergmite\n789 Avalugg\n790 Noibat\n791 Noivern\n792 Xerneas\n793 Yveltal\n794 Zygarde50% Forme\n795 Diancie\n796 DiancieMega Diancie\n797 HoopaHoopa Confined\n798 HoopaHoopa Unbound\n799 Volcanion\n"
    }
   ],
   "source": [
    "# # Iterate through data\n",
    "for index, row in df.iterrows(): # Iterate through rows (iterrows)\n",
    "    print(index, row['Name'])    # For each, print index and value under column 'Name'"
   ]
  },
  {
   "cell_type": "markdown",
   "execution_count": null,
   "metadata": {},
   "outputs": [],
   "source": [
    "## Sorting Data\n",
    "\n",
    "Default sort format:\n",
    "- Letters get sorted alphabetically\n",
    "- Numbers get sorted sorts numbers ascending order\n",
    "\n",
    "Note: Python sorts capitalized words before lowercase words"
   ]
  },
  {
   "cell_type": "code",
   "execution_count": 53,
   "metadata": {},
   "outputs": [
    {
     "data": {
      "text/html": "<div>\n<style scoped>\n    .dataframe tbody tr th:only-of-type {\n        vertical-align: middle;\n    }\n\n    .dataframe tbody tr th {\n        vertical-align: top;\n    }\n\n    .dataframe thead th {\n        text-align: right;\n    }\n</style>\n<table border=\"1\" class=\"dataframe\">\n  <thead>\n    <tr style=\"text-align: right;\">\n      <th></th>\n      <th>#</th>\n      <th>Name</th>\n      <th>Type 1</th>\n      <th>Type 2</th>\n      <th>HP</th>\n      <th>Attack</th>\n      <th>Defense</th>\n      <th>Sp. Atk</th>\n      <th>Sp. Def</th>\n      <th>Speed</th>\n      <th>Generation</th>\n      <th>Legendary</th>\n    </tr>\n  </thead>\n  <tbody>\n    <tr>\n      <th>510</th>\n      <td>460</td>\n      <td>Abomasnow</td>\n      <td>Grass</td>\n      <td>Ice</td>\n      <td>90</td>\n      <td>92</td>\n      <td>75</td>\n      <td>92</td>\n      <td>85</td>\n      <td>60</td>\n      <td>4</td>\n      <td>False</td>\n    </tr>\n    <tr>\n      <th>511</th>\n      <td>460</td>\n      <td>AbomasnowMega Abomasnow</td>\n      <td>Grass</td>\n      <td>Ice</td>\n      <td>90</td>\n      <td>132</td>\n      <td>105</td>\n      <td>132</td>\n      <td>105</td>\n      <td>30</td>\n      <td>4</td>\n      <td>False</td>\n    </tr>\n    <tr>\n      <th>68</th>\n      <td>63</td>\n      <td>Abra</td>\n      <td>Psychic</td>\n      <td>NaN</td>\n      <td>25</td>\n      <td>20</td>\n      <td>15</td>\n      <td>105</td>\n      <td>55</td>\n      <td>90</td>\n      <td>1</td>\n      <td>False</td>\n    </tr>\n    <tr>\n      <th>392</th>\n      <td>359</td>\n      <td>Absol</td>\n      <td>Dark</td>\n      <td>NaN</td>\n      <td>65</td>\n      <td>130</td>\n      <td>60</td>\n      <td>75</td>\n      <td>60</td>\n      <td>75</td>\n      <td>3</td>\n      <td>False</td>\n    </tr>\n    <tr>\n      <th>393</th>\n      <td>359</td>\n      <td>AbsolMega Absol</td>\n      <td>Dark</td>\n      <td>NaN</td>\n      <td>65</td>\n      <td>150</td>\n      <td>60</td>\n      <td>115</td>\n      <td>60</td>\n      <td>115</td>\n      <td>3</td>\n      <td>False</td>\n    </tr>\n    <tr>\n      <th>...</th>\n      <td>...</td>\n      <td>...</td>\n      <td>...</td>\n      <td>...</td>\n      <td>...</td>\n      <td>...</td>\n      <td>...</td>\n      <td>...</td>\n      <td>...</td>\n      <td>...</td>\n      <td>...</td>\n      <td>...</td>\n    </tr>\n    <tr>\n      <th>632</th>\n      <td>571</td>\n      <td>Zoroark</td>\n      <td>Dark</td>\n      <td>NaN</td>\n      <td>60</td>\n      <td>105</td>\n      <td>60</td>\n      <td>120</td>\n      <td>60</td>\n      <td>105</td>\n      <td>5</td>\n      <td>False</td>\n    </tr>\n    <tr>\n      <th>631</th>\n      <td>570</td>\n      <td>Zorua</td>\n      <td>Dark</td>\n      <td>NaN</td>\n      <td>40</td>\n      <td>65</td>\n      <td>40</td>\n      <td>80</td>\n      <td>40</td>\n      <td>65</td>\n      <td>5</td>\n      <td>False</td>\n    </tr>\n    <tr>\n      <th>46</th>\n      <td>41</td>\n      <td>Zubat</td>\n      <td>Poison</td>\n      <td>Flying</td>\n      <td>40</td>\n      <td>45</td>\n      <td>35</td>\n      <td>30</td>\n      <td>40</td>\n      <td>55</td>\n      <td>1</td>\n      <td>False</td>\n    </tr>\n    <tr>\n      <th>695</th>\n      <td>634</td>\n      <td>Zweilous</td>\n      <td>Dark</td>\n      <td>Dragon</td>\n      <td>72</td>\n      <td>85</td>\n      <td>70</td>\n      <td>65</td>\n      <td>70</td>\n      <td>58</td>\n      <td>5</td>\n      <td>False</td>\n    </tr>\n    <tr>\n      <th>794</th>\n      <td>718</td>\n      <td>Zygarde50% Forme</td>\n      <td>Dragon</td>\n      <td>Ground</td>\n      <td>108</td>\n      <td>100</td>\n      <td>121</td>\n      <td>81</td>\n      <td>95</td>\n      <td>95</td>\n      <td>6</td>\n      <td>True</td>\n    </tr>\n  </tbody>\n</table>\n<p>800 rows × 12 columns</p>\n</div>",
      "text/plain": "       #                     Name   Type 1  Type 2   HP  Attack  Defense  \\\n510  460                Abomasnow    Grass     Ice   90      92       75   \n511  460  AbomasnowMega Abomasnow    Grass     Ice   90     132      105   \n68    63                     Abra  Psychic     NaN   25      20       15   \n392  359                    Absol     Dark     NaN   65     130       60   \n393  359          AbsolMega Absol     Dark     NaN   65     150       60   \n..   ...                      ...      ...     ...  ...     ...      ...   \n632  571                  Zoroark     Dark     NaN   60     105       60   \n631  570                    Zorua     Dark     NaN   40      65       40   \n46    41                    Zubat   Poison  Flying   40      45       35   \n695  634                 Zweilous     Dark  Dragon   72      85       70   \n794  718         Zygarde50% Forme   Dragon  Ground  108     100      121   \n\n     Sp. Atk  Sp. Def  Speed  Generation  Legendary  \n510       92       85     60           4      False  \n511      132      105     30           4      False  \n68       105       55     90           1      False  \n392       75       60     75           3      False  \n393      115       60    115           3      False  \n..       ...      ...    ...         ...        ...  \n632      120       60    105           5      False  \n631       80       40     65           5      False  \n46        30       40     55           1      False  \n695       65       70     58           5      False  \n794       81       95     95           6       True  \n\n[800 rows x 12 columns]"
     },
     "execution_count": 53,
     "metadata": {},
     "output_type": "execute_result"
    }
   ],
   "source": [
    "# # Sort series\n",
    "# s.sort_values(ascending=True)\n",
    "\n",
    "# # Sort column of dataframe\n",
    "df.sort_values('Name', ascending=True) # Ascending is true by default, change this to reverse sort order\n",
    "\n",
    "# # Sort column with sorted subcolumn\n",
    "# # This method sorts by 'HP' then sorts by 'Type 1' such that the pokemon are sorted by type and each type is sorted by HP. \n",
    "# # Note: Change the numbers in ascending=[1,1] to 0 for rows that you want to reverse sort\n",
    "# df.sort_values(['Type 1', 'HP'], ascending=[1,1])"
   ]
  },
  {
   "cell_type": "markdown",
   "execution_count": null,
   "metadata": {},
   "outputs": [],
   "source": [
    "## Manipulating Data\n",
    "\n",
    "When manipulating data, it is a good idea to export to CSV as you go.\n",
    "This way, you can reload a previous version in case you mess up the data. "
   ]
  },
  {
   "cell_type": "code",
   "execution_count": 62,
   "metadata": {},
   "outputs": [
    {
     "data": {
      "text/html": "<div>\n<style scoped>\n    .dataframe tbody tr th:only-of-type {\n        vertical-align: middle;\n    }\n\n    .dataframe tbody tr th {\n        vertical-align: top;\n    }\n\n    .dataframe thead th {\n        text-align: right;\n    }\n</style>\n<table border=\"1\" class=\"dataframe\">\n  <thead>\n    <tr style=\"text-align: right;\">\n      <th></th>\n      <th>#</th>\n      <th>Name</th>\n      <th>Type 1</th>\n      <th>Type 2</th>\n      <th>HP</th>\n      <th>Attack</th>\n      <th>Defense</th>\n      <th>Sp. Atk</th>\n      <th>Sp. Def</th>\n      <th>Speed</th>\n      <th>Generation</th>\n      <th>Legendary</th>\n      <th>Total</th>\n    </tr>\n  </thead>\n  <tbody>\n    <tr>\n      <th>0</th>\n      <td>1</td>\n      <td>Bulbasaur</td>\n      <td>Grass</td>\n      <td>Poison</td>\n      <td>45</td>\n      <td>49</td>\n      <td>49</td>\n      <td>65</td>\n      <td>65</td>\n      <td>45</td>\n      <td>1</td>\n      <td>False</td>\n      <td>318</td>\n    </tr>\n    <tr>\n      <th>1</th>\n      <td>2</td>\n      <td>Ivysaur</td>\n      <td>Grass</td>\n      <td>Poison</td>\n      <td>60</td>\n      <td>62</td>\n      <td>63</td>\n      <td>80</td>\n      <td>80</td>\n      <td>60</td>\n      <td>1</td>\n      <td>False</td>\n      <td>405</td>\n    </tr>\n    <tr>\n      <th>2</th>\n      <td>3</td>\n      <td>Venusaur</td>\n      <td>Grass</td>\n      <td>Poison</td>\n      <td>80</td>\n      <td>82</td>\n      <td>83</td>\n      <td>100</td>\n      <td>100</td>\n      <td>80</td>\n      <td>1</td>\n      <td>False</td>\n      <td>525</td>\n    </tr>\n    <tr>\n      <th>3</th>\n      <td>3</td>\n      <td>VenusaurMega Venusaur</td>\n      <td>Grass</td>\n      <td>Poison</td>\n      <td>80</td>\n      <td>100</td>\n      <td>123</td>\n      <td>122</td>\n      <td>120</td>\n      <td>80</td>\n      <td>1</td>\n      <td>False</td>\n      <td>625</td>\n    </tr>\n    <tr>\n      <th>4</th>\n      <td>4</td>\n      <td>Charmander</td>\n      <td>Fire</td>\n      <td>NaN</td>\n      <td>39</td>\n      <td>52</td>\n      <td>43</td>\n      <td>60</td>\n      <td>50</td>\n      <td>65</td>\n      <td>1</td>\n      <td>False</td>\n      <td>309</td>\n    </tr>\n    <tr>\n      <th>...</th>\n      <td>...</td>\n      <td>...</td>\n      <td>...</td>\n      <td>...</td>\n      <td>...</td>\n      <td>...</td>\n      <td>...</td>\n      <td>...</td>\n      <td>...</td>\n      <td>...</td>\n      <td>...</td>\n      <td>...</td>\n      <td>...</td>\n    </tr>\n    <tr>\n      <th>795</th>\n      <td>719</td>\n      <td>Diancie</td>\n      <td>Rock</td>\n      <td>Fairy</td>\n      <td>50</td>\n      <td>100</td>\n      <td>150</td>\n      <td>100</td>\n      <td>150</td>\n      <td>50</td>\n      <td>6</td>\n      <td>True</td>\n      <td>600</td>\n    </tr>\n    <tr>\n      <th>796</th>\n      <td>719</td>\n      <td>DiancieMega Diancie</td>\n      <td>Rock</td>\n      <td>Fairy</td>\n      <td>50</td>\n      <td>160</td>\n      <td>110</td>\n      <td>160</td>\n      <td>110</td>\n      <td>110</td>\n      <td>6</td>\n      <td>True</td>\n      <td>700</td>\n    </tr>\n    <tr>\n      <th>797</th>\n      <td>720</td>\n      <td>HoopaHoopa Confined</td>\n      <td>Psychic</td>\n      <td>Ghost</td>\n      <td>80</td>\n      <td>110</td>\n      <td>60</td>\n      <td>150</td>\n      <td>130</td>\n      <td>70</td>\n      <td>6</td>\n      <td>True</td>\n      <td>600</td>\n    </tr>\n    <tr>\n      <th>798</th>\n      <td>720</td>\n      <td>HoopaHoopa Unbound</td>\n      <td>Psychic</td>\n      <td>Dark</td>\n      <td>80</td>\n      <td>160</td>\n      <td>60</td>\n      <td>170</td>\n      <td>130</td>\n      <td>80</td>\n      <td>6</td>\n      <td>True</td>\n      <td>680</td>\n    </tr>\n    <tr>\n      <th>799</th>\n      <td>721</td>\n      <td>Volcanion</td>\n      <td>Fire</td>\n      <td>Water</td>\n      <td>80</td>\n      <td>110</td>\n      <td>120</td>\n      <td>130</td>\n      <td>90</td>\n      <td>70</td>\n      <td>6</td>\n      <td>True</td>\n      <td>600</td>\n    </tr>\n  </tbody>\n</table>\n<p>800 rows × 13 columns</p>\n</div>",
      "text/plain": "       #                   Name   Type 1  Type 2  HP  Attack  Defense  \\\n0      1              Bulbasaur    Grass  Poison  45      49       49   \n1      2                Ivysaur    Grass  Poison  60      62       63   \n2      3               Venusaur    Grass  Poison  80      82       83   \n3      3  VenusaurMega Venusaur    Grass  Poison  80     100      123   \n4      4             Charmander     Fire     NaN  39      52       43   \n..   ...                    ...      ...     ...  ..     ...      ...   \n795  719                Diancie     Rock   Fairy  50     100      150   \n796  719    DiancieMega Diancie     Rock   Fairy  50     160      110   \n797  720    HoopaHoopa Confined  Psychic   Ghost  80     110       60   \n798  720     HoopaHoopa Unbound  Psychic    Dark  80     160       60   \n799  721              Volcanion     Fire   Water  80     110      120   \n\n     Sp. Atk  Sp. Def  Speed  Generation  Legendary  Total  \n0         65       65     45           1      False    318  \n1         80       80     60           1      False    405  \n2        100      100     80           1      False    525  \n3        122      120     80           1      False    625  \n4         60       50     65           1      False    309  \n..       ...      ...    ...         ...        ...    ...  \n795      100      150     50           6       True    600  \n796      160      110    110           6       True    700  \n797      150      130     70           6       True    600  \n798      170      130     80           6       True    680  \n799      130       90     70           6       True    600  \n\n[800 rows x 13 columns]"
     },
     "execution_count": 62,
     "metadata": {},
     "output_type": "execute_result"
    }
   ],
   "source": [
    "#####################################################################################################\n",
    "### ARRAY MATH\n",
    "\n",
    "# # Math operations on dataframe\n",
    "# # Convert temp data from F to C (assuminng array holds temp values)\n",
    "# df = (9/5) * df + 32\n",
    "\n",
    "# # Sum two dataframes of same shape\n",
    "# df + df2\n",
    "\n",
    "# # Map a function to each column (labda)\n",
    "# f = lambda x: x.max() - x.min()\n",
    "# df.apply(f)\n",
    "\n",
    "#####################################################################################################\n",
    "### ADDING/REMOVING/REORGANIZING COLUMNS\n",
    "\n",
    "# # Add a new nan column to the table\n",
    "# df['Total'] = np.nan\n",
    "\n",
    "# # Add a new column that is the sum of other other numerical columns\n",
    "df['Total'] = df['HP'] + df['Attack'] + df['Defense'] + df['Sp. Atk'] + df['Sp. Def'] + df['Speed']\n",
    "\n",
    "# # Drop a column from the table\n",
    "# df = df.drop(columns=['Total'])\n",
    "\n",
    "# # Reorder columns in the table\n",
    "# df = df[['Total', 'HP', 'Defense']] # Overwrites with new dataframe in desired order\n",
    "\n",
    "# # Bin age into 3 categories\n",
    "# # Asking qcut to return a subset of ages, with 3 unique columns, column labels young middle old\n",
    "# data['agegroup'] = pd.qcut(data['age'], 3, labels=['young', 'middle', 'old'] )\n",
    "\n",
    "# # Bin 'chol' column into quantiles\n",
    "# data['chol_quantiles'] = pd.qcut(data['chol'], [0, 0.3, 0.7, 1.0], labels=['low', 'mid', 'high'])\n",
    "\n",
    "#####################################################################################################\n",
    "### CONDITIONAL CHANGES\n",
    "\n",
    "# # Change all 'Fire' type pokemon in column 'Type 1' to 'Flamer'\n",
    "# df.loc[df['Type 1'] == 'Fire', 'Type 1'] = 'Flamer'\n",
    "\n",
    "# # Change all pokemon of type 'Fire' in 'Type 1' to legendary\n",
    "# df.loc[df['Type 1'] == 'Fire', 'Legendary'] = True\n",
    "\n",
    "# # If total > 500, change Generation and Legendary to 'TEST VALUE'\n",
    "# df.loc[df['Total'] > 500, ['Generation', 'Legendary']] = 'TEST VALUE'\n",
    "\n",
    "# # If total > 500, change generation to 'Test 1' and legendary to 'Test 2'\n",
    "# df.loc[df['Total'] > 500, ['Generation','Legendary']] = ['Test 1', 'Test 2']\n",
    "\n",
    "df"
   ]
  },
  {
   "cell_type": "markdown",
   "execution_count": null,
   "metadata": {},
   "outputs": [],
   "source": [
    "## Statistical Analysis"
   ]
  },
  {
   "cell_type": "code",
   "execution_count": 65,
   "metadata": {},
   "outputs": [
    {
     "data": {
      "text/plain": "Type 1  Type 2  \nBug     Electric     2\n        Fighting     2\n        Fire         2\n        Flying      14\n        Ghost        1\n                    ..\nWater   Ice          3\n        Poison       3\n        Psychic      5\n        Rock         4\n        Steel        1\nName: count, Length: 136, dtype: int64"
     },
     "execution_count": 65,
     "metadata": {},
     "output_type": "execute_result"
    }
   ],
   "source": [
    "# # Get averages for all stat columns according to 'Type 1'\n",
    "# # Eg. You could see which pokemon type had highest average of each stat\n",
    "# df.groupby(['Type 1']).mean()\n",
    "\n",
    "# # Same as above but sorts by defense\n",
    "# df.groupby(['Type 1']).mean().sort_values('Defense', ascending=False)\n",
    "\n",
    "# # Get sum for all stat columns according to 'Type 1'\n",
    "# df.groupby(['Type 1']).sum()\n",
    "\n",
    "# # Get count of all pokemon in each type (Did you know there were 69 bug pokemon?)\n",
    "df['count'] = 1 # Creates new column called 'count' initialized with 1s \n",
    "# Count the number of rows in 'Type 1' that have a value in column 'count'\n",
    "df.groupby(['Type 1']).count()['count']\n",
    "\n",
    "## Can see the number of pokemon in each type subset\n",
    "df.groupby(['Type 1', 'Type 2']).count()['count']"
   ]
  },
  {
   "cell_type": "markdown",
   "execution_count": null,
   "metadata": {},
   "outputs": [],
   "source": [
    "## User Defined Categories"
   ]
  },
  {
   "cell_type": "code",
   "execution_count": null,
   "metadata": {},
   "outputs": [],
   "source": [
    "# # Import this to create a new category type\n",
    "# from pandas.api.types import CategoricalDtype \n",
    "\n",
    "# # Creating new category types. ordered = True means the given argument order should be the heirarchical order used\n",
    "# cat_type = CategoricalDtype(categories=['disagree', 'agree', 'strongly agree'], ordered=True)\n",
    "\n",
    "# # Convert to user defined datatype \n",
    "# df2['parks'] = df2['parks'].astype(cat_type)"
   ]
  },
  {
   "cell_type": "markdown",
   "execution_count": 1,
   "metadata": {},
   "outputs": [],
   "source": [
    "## CSV From Web Example"
   ]
  },
  {
   "cell_type": "code",
   "execution_count": null,
   "metadata": {},
   "outputs": [],
   "source": [
    "# Url string with variables station, year and month\n",
    "    # Timeframe\n",
    "    # 1 = hourly, 2 = daily (ignores the month, just gives daily data for the entire year (365 rows))\n",
    "url_template = \"https://climate.weather.gc.ca/climate_data/bulk_data_e.html?format=csv&stationID={station}&Year={year}&Month={month}&Day=14&timeframe=1&submit=Download+Data\"\n",
    "\n",
    "# Replace variables in string with actual values\n",
    "    # station = 2205 is at the Calgary Airport (2205 up to July 2012, 50430 for July 2012 - present)\n",
    "url = url_template.format(station=2205, year=2001, month=5) \n",
    "\n",
    "# Read data from URL into dataframe, use headers and set Date/Time column as index\n",
    "weather_data = pd.read_csv(url, index_col='Date/Time', parse_dates=True) \n",
    "\n",
    "# 27 total columns, but note: some columns don't have any data (N/A)\n",
    "weather_data.info()"
   ]
  },
  {
   "cell_type": "markdown",
   "execution_count": null,
   "metadata": {},
   "outputs": [],
   "source": [
    "## Processing Large Datasets\n",
    "\n",
    "Sometimes data is so large it has to be processed in chunks"
   ]
  },
  {
   "cell_type": "code",
   "execution_count": null,
   "metadata": {},
   "outputs": [],
   "source": [
    "# # Create a new empty dataframe with the same column names\n",
    "# new_df = pd.DataFrame(columns=df.columns)\n",
    "\n",
    "# # Pass 5 rows at a time into memory and process\n",
    "# for df in pd.read_csv('modified.csv', chunksize=5):\n",
    "#     results = df.groupby(['Type 1']).count()\n",
    "#     # Concatenate each chunk of results into the new dataframe\n",
    "#     new_df = pd.concat([new_df, results])"
   ]
  },
  {
   "cell_type": "code",
   "execution_count": null,
   "metadata": {},
   "outputs": [],
   "source": []
  }
 ]
}